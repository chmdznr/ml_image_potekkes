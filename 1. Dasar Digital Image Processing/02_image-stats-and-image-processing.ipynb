{
 "cells": [
  {
   "cell_type": "markdown",
   "metadata": {},
   "source": [
    "# Image stats and image processing\n",
    "This notebook follows on from the fundamentals notebook.\n",
    "\n",
    "This will introduce some simple stats, smoothing, and basic image processing.\n",
    "\n",
    "But first let us include what we need to include and load up our test image."
   ]
  },
  {
   "cell_type": "code",
   "execution_count": null,
   "metadata": {},
   "outputs": [],
   "source": []
  }
 ],
 "metadata": {
  "language_info": {
   "name": "python"
  },
  "orig_nbformat": 4
 },
 "nbformat": 4,
 "nbformat_minor": 2
}
