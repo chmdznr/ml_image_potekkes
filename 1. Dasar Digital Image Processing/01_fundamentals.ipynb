{
 "cells": [
  {
   "cell_type": "markdown",
   "metadata": {},
   "source": [
    "# OpenCV fundamentals\n",
    "\n",
    "This notebook covers opening files, looking at pixels, and some simple image processing techniques.\n",
    "\n",
    "We'll use the following sample image, stolen from the Internet. But you can use whatever image you like.\n",
    "\n",
    "![Brain MRI](https://raw.githubusercontent.com/chmdznr/ml_image_potekkes/main/data/Brain_MRI_0077_13.jpg \"Sample brain MRI\")"
   ]
  },
  {
   "cell_type": "markdown",
   "metadata": {},
   "source": [
    "## Python getting started\n",
    "\n",
    "First we need to import the relevant libraries: OpenCV itself, Numpy, and a couple of others. Common and Video are simple data handling and opening routines that you can find in the OpenCV Python Samples directory or other sources.  We'll start each notebook with the same includes - you don't need all of them every time (so this is bad form, really) but it's easier to just copy and paste. "
   ]
  },
  {
   "cell_type": "code",
   "execution_count": null,
   "metadata": {},
   "outputs": [],
   "source": []
  }
 ],
 "metadata": {
  "interpreter": {
   "hash": "b3ba2566441a7c06988d0923437866b63cedc61552a5af99d1f4fb67d367b25f"
  },
  "kernelspec": {
   "display_name": "Python 3.8.8 ('base')",
   "language": "python",
   "name": "python3"
  },
  "language_info": {
   "name": "python",
   "version": "3.8.8"
  },
  "orig_nbformat": 4
 },
 "nbformat": 4,
 "nbformat_minor": 2
}
