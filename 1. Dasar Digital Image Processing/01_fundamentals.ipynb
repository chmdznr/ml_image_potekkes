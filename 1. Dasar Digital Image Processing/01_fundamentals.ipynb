{
  "cells": [
    {
      "cell_type": "markdown",
      "metadata": {
        "id": "zyZdfsISWCIQ"
      },
      "source": [
        "# OpenCV fundamentals\n",
        "\n",
        "This notebook covers opening files, looking at pixels, and some simple image processing techniques.\n",
        "\n",
        "We'll use the following sample image, stolen from the Internet. But you can use whatever image you like.\n",
        "\n",
        "![Brain MRI](https://raw.githubusercontent.com/chmdznr/ml_image_potekkes/main/data/Brain_MRI_0077_13.jpg \"Sample brain MRI\")"
      ]
    },
    {
      "cell_type": "markdown",
      "metadata": {
        "id": "aTT1uNKKWCIT"
      },
      "source": [
        "## Python getting started\n",
        "\n",
        "First we need to import the relevant libraries: OpenCV itself, Numpy, and a couple of others. Common and Video are simple data handling and opening routines that you can find in the OpenCV Python Samples directory or other sources.  We'll start each notebook with the same includes - you don't need all of them every time (so this is bad form, really) but it's easier to just copy and paste. "
      ]
    },
    {
      "cell_type": "code",
      "execution_count": 1,
      "metadata": {
        "id": "E2PQSFkpWCIU",
        "outputId": "24ffdd6a-1571-40c1-fec0-1fe70a61e2fc",
        "colab": {
          "base_uri": "https://localhost:8080/"
        }
      },
      "outputs": [
        {
          "output_type": "stream",
          "name": "stdout",
          "text": [
            "--2022-03-28 21:06:21--  https://raw.githubusercontent.com/chmdznr/ml_image_potekkes/main/data/Brain_MRI_0077_13.jpg\n",
            "Resolving raw.githubusercontent.com (raw.githubusercontent.com)... 185.199.108.133, 185.199.111.133, 185.199.110.133, ...\n",
            "Connecting to raw.githubusercontent.com (raw.githubusercontent.com)|185.199.108.133|:443... connected.\n",
            "HTTP request sent, awaiting response... 200 OK\n",
            "Length: 36507 (36K) [image/jpeg]\n",
            "Saving to: ‘noidea.jpg’\n",
            "\n",
            "\rnoidea.jpg            0%[                    ]       0  --.-KB/s               \rnoidea.jpg          100%[===================>]  35.65K  --.-KB/s    in 0.003s  \n",
            "\n",
            "2022-03-28 21:06:21 (10.9 MB/s) - ‘noidea.jpg’ saved [36507/36507]\n",
            "\n",
            "--2022-03-28 21:06:21--  https://raw.githubusercontent.com/chmdznr/ml_image_potekkes/main/utils/common.py\n",
            "Resolving raw.githubusercontent.com (raw.githubusercontent.com)... 185.199.108.133, 185.199.109.133, 185.199.110.133, ...\n",
            "Connecting to raw.githubusercontent.com (raw.githubusercontent.com)|185.199.108.133|:443... connected.\n",
            "HTTP request sent, awaiting response... 200 OK\n",
            "Length: 6570 (6.4K) [text/plain]\n",
            "Saving to: ‘common.py’\n",
            "\n",
            "common.py           100%[===================>]   6.42K  --.-KB/s    in 0s      \n",
            "\n",
            "2022-03-28 21:06:21 (51.8 MB/s) - ‘common.py’ saved [6570/6570]\n",
            "\n"
          ]
        }
      ],
      "source": [
        "# Download the test image and utils files\n",
        "!wget --no-check-certificate \\\n",
        "    https://raw.githubusercontent.com/chmdznr/ml_image_potekkes/main/data/Brain_MRI_0077_13.jpg \\\n",
        "    -O noidea.jpg\n",
        "!wget --no-check-certificate \\\n",
        "    https://raw.githubusercontent.com/chmdznr/ml_image_potekkes/main/utils/common.py \\\n",
        "    -O common.py\n",
        "\n",
        "# These imports let you use opencv\n",
        "import cv2 #opencv itself\n",
        "import common #some useful opencv functions\n",
        "import numpy as np # matrix manipulations\n",
        "\n",
        "#the following are to do with this interactive notebook code\n",
        "%matplotlib inline \n",
        "from matplotlib import pyplot as plt # this lets you draw inline pictures in the notebooks\n",
        "import pylab # this allows you to control figure size \n",
        "pylab.rcParams['figure.figsize'] = (10.0, 8.0) # this controls figure size in the notebook"
      ]
    }
  ],
  "metadata": {
    "interpreter": {
      "hash": "b3ba2566441a7c06988d0923437866b63cedc61552a5af99d1f4fb67d367b25f"
    },
    "kernelspec": {
      "display_name": "Python 3.8.8 ('base')",
      "language": "python",
      "name": "python3"
    },
    "language_info": {
      "name": "python",
      "version": "3.8.8"
    },
    "orig_nbformat": 4,
    "colab": {
      "name": "01_fundamentals.ipynb",
      "provenance": []
    },
    "accelerator": "GPU"
  },
  "nbformat": 4,
  "nbformat_minor": 0
}